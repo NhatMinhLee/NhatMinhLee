{
 "cells": [
  {
   "cell_type": "code",
   "execution_count": 31,
   "metadata": {},
   "outputs": [],
   "source": [
    "import pandas as pd\n",
    "import textwrap\n",
    "import time\n",
    "from urllib.parse import quote\n",
    "from termcolor import colored\n",
    "from sqlalchemy import *\n",
    "from sqlalchemy.engine import create_engine\n",
    "from sqlalchemy.schema import *\n",
    "from sqlalchemy import (BigInteger, Column, Date, DateTime, Integer, String,\n",
    "                        UniqueConstraint, create_engine)\n",
    "db_connection_str = (\n",
    "    \"mysql+pymysql://minh.le.nhat:%s@34.143.219.240:3306/vn_product?charset=utf8mb4\"\n",
    "    % quote(\"lenhatminh!@#\")\n",
    ")\n",
    "\n",
    "engine = create_engine(db_connection_str, echo=True)\n"
   ]
  },
  {
   "cell_type": "code",
   "execution_count": 1,
   "metadata": {},
   "outputs": [
    {
     "ename": "NameError",
     "evalue": "name 'textwrap' is not defined",
     "output_type": "error",
     "traceback": [
      "\u001b[0;31m---------------------------------------------------------------------------\u001b[0m",
      "\u001b[0;31mNameError\u001b[0m                                 Traceback (most recent call last)",
      "\u001b[1;32m/Users/nhat.minh/Desktop/Python/Presto Python Connection/Connect MySQL Product.ipynb Cell 2'\u001b[0m in \u001b[0;36m<cell line: 1>\u001b[0;34m()\u001b[0m\n\u001b[0;32m----> <a href='vscode-notebook-cell:/Users/nhat.minh/Desktop/Python/Presto%20Python%20Connection/Connect%20MySQL%20Product.ipynb#ch0000001?line=0'>1</a>\u001b[0m sql \u001b[39m=\u001b[39m textwrap\u001b[39m.\u001b[39mdedent(\u001b[39m\"\"\"\u001b[39m\u001b[39m\\\u001b[39;00m\n\u001b[1;32m      <a href='vscode-notebook-cell:/Users/nhat.minh/Desktop/Python/Presto%20Python%20Connection/Connect%20MySQL%20Product.ipynb#ch0000001?line=1'>2</a>\u001b[0m \u001b[39m  \u001b[39m\n\u001b[1;32m      <a href='vscode-notebook-cell:/Users/nhat.minh/Desktop/Python/Presto%20Python%20Connection/Connect%20MySQL%20Product.ipynb#ch0000001?line=2'>3</a>\u001b[0m \u001b[39mselect count(distinct sec_uid) from video.video_mart_dwd_video_crawler_seller_tab_df_vn\u001b[39m\n\u001b[1;32m      <a href='vscode-notebook-cell:/Users/nhat.minh/Desktop/Python/Presto%20Python%20Connection/Connect%20MySQL%20Product.ipynb#ch0000001?line=3'>4</a>\u001b[0m \u001b[39mwhere grass_date = current_date  - interval \u001b[39m\u001b[39m'\u001b[39m\u001b[39m1\u001b[39m\u001b[39m'\u001b[39m\u001b[39m day\u001b[39m\n\u001b[1;32m      <a href='vscode-notebook-cell:/Users/nhat.minh/Desktop/Python/Presto%20Python%20Connection/Connect%20MySQL%20Product.ipynb#ch0000001?line=4'>5</a>\u001b[0m \u001b[39m       \u001b[39m\u001b[39m\"\"\"\u001b[39m)\n\u001b[1;32m      <a href='vscode-notebook-cell:/Users/nhat.minh/Desktop/Python/Presto%20Python%20Connection/Connect%20MySQL%20Product.ipynb#ch0000001?line=6'>7</a>\u001b[0m \u001b[39mprint\u001b[39m(colored(\u001b[39m\"\u001b[39m\u001b[39mStart time: \u001b[39m\u001b[39m\"\u001b[39m \u001b[39m+\u001b[39m time\u001b[39m.\u001b[39masctime( time\u001b[39m.\u001b[39mlocaltime(time\u001b[39m.\u001b[39mtime()) ),\u001b[39m'\u001b[39m\u001b[39mblue\u001b[39m\u001b[39m'\u001b[39m))\n\u001b[1;32m      <a href='vscode-notebook-cell:/Users/nhat.minh/Desktop/Python/Presto%20Python%20Connection/Connect%20MySQL%20Product.ipynb#ch0000001?line=7'>8</a>\u001b[0m sql_output \u001b[39m=\u001b[39m []\n",
      "\u001b[0;31mNameError\u001b[0m: name 'textwrap' is not defined"
     ]
    }
   ],
   "source": [
    "sql = textwrap.dedent(\"\"\"\\\n",
    "  \n",
    "select count(distinct sec_uid) from video.video_mart_dwd_video_crawler_seller_tab_df_vn\n",
    "where grass_date = current_date  - interval '1' day\n",
    "       \"\"\")\n",
    "\n",
    "print(colored(\"Start time: \" + time.asctime( time.localtime(time.time()) ),'blue'))\n",
    "sql_output = []\n",
    "with engine.connect() as con:\n",
    "    rs = con.execute(sql)\n",
    "    for row in rs:\n",
    "        sql_output.append(dict(row))\n",
    "sql_output = pd.DataFrame(sql_output)\n",
    "pd.set_option('display.max_columns',None)\n",
    "print(colored(\"End time: \" + time.asctime( time.localtime(time.time()) ),'green'))"
   ]
  },
  {
   "cell_type": "code",
   "execution_count": 41,
   "metadata": {},
   "outputs": [],
   "source": [
    "sql_output.drop_duplicates(inplace=True)"
   ]
  },
  {
   "cell_type": "code",
   "execution_count": 42,
   "metadata": {},
   "outputs": [],
   "source": [
    "sql_output.to_csv('/Users/nhat.minh/Downloads/ads.csv',index=False,encoding=\"utf_8_sig\")"
   ]
  },
  {
   "cell_type": "code",
   "execution_count": 3,
   "metadata": {},
   "outputs": [
    {
     "data": {
      "text/html": [
       "<div>\n",
       "<style scoped>\n",
       "    .dataframe tbody tr th:only-of-type {\n",
       "        vertical-align: middle;\n",
       "    }\n",
       "\n",
       "    .dataframe tbody tr th {\n",
       "        vertical-align: top;\n",
       "    }\n",
       "\n",
       "    .dataframe thead th {\n",
       "        text-align: right;\n",
       "    }\n",
       "</style>\n",
       "<table border=\"1\" class=\"dataframe\">\n",
       "  <thead>\n",
       "    <tr style=\"text-align: right;\">\n",
       "      <th></th>\n",
       "      <th>region</th>\n",
       "      <th>sum(total_revenue)</th>\n",
       "    </tr>\n",
       "  </thead>\n",
       "  <tbody>\n",
       "    <tr>\n",
       "      <th>0</th>\n",
       "      <td>Central America and the Caribbean</td>\n",
       "      <td>6.849763e+08</td>\n",
       "    </tr>\n",
       "    <tr>\n",
       "      <th>1</th>\n",
       "      <td>Europe</td>\n",
       "      <td>1.703622e+09</td>\n",
       "    </tr>\n",
       "    <tr>\n",
       "      <th>2</th>\n",
       "      <td>Asia</td>\n",
       "      <td>9.202771e+08</td>\n",
       "    </tr>\n",
       "    <tr>\n",
       "      <th>3</th>\n",
       "      <td>Middle East and North Africa</td>\n",
       "      <td>7.668678e+08</td>\n",
       "    </tr>\n",
       "    <tr>\n",
       "      <th>4</th>\n",
       "      <td>Australia and Oceania</td>\n",
       "      <td>5.873641e+08</td>\n",
       "    </tr>\n",
       "    <tr>\n",
       "      <th>5</th>\n",
       "      <td>Sub-Saharan Africa</td>\n",
       "      <td>1.814567e+09</td>\n",
       "    </tr>\n",
       "    <tr>\n",
       "      <th>6</th>\n",
       "      <td>North America</td>\n",
       "      <td>1.510143e+08</td>\n",
       "    </tr>\n",
       "  </tbody>\n",
       "</table>\n",
       "</div>"
      ],
      "text/plain": [
       "                              region  sum(total_revenue)\n",
       "0  Central America and the Caribbean        6.849763e+08\n",
       "1                             Europe        1.703622e+09\n",
       "2                               Asia        9.202771e+08\n",
       "3       Middle East and North Africa        7.668678e+08\n",
       "4              Australia and Oceania        5.873641e+08\n",
       "5                 Sub-Saharan Africa        1.814567e+09\n",
       "6                      North America        1.510143e+08"
      ]
     },
     "execution_count": 3,
     "metadata": {},
     "output_type": "execute_result"
    }
   ],
   "source": [
    "import pandas as pd\n",
    "import textwrap\n",
    "import time\n",
    "from urllib.parse import quote\n",
    "from sqlalchemy import *\n",
    "from sqlalchemy.engine import create_engine\n",
    "from sqlalchemy.schema import *\n",
    "from sqlalchemy import (BigInteger, Column, Date, DateTime, Integer, String,\n",
    "                        UniqueConstraint, create_engine)\n",
    "db_connection_str = (\n",
    "    \"mysql+pymysql://mindx_sql:%s@103.173.254.194:3306/mindx_sql?charset=utf8mb4\"\n",
    "    % quote(\"mindx_sql\"))\n",
    "engine = create_engine(db_connection_str, echo=False)\n",
    "\n",
    "sql = textwrap.dedent(\"\"\"\\\n",
    "select region, sum(total_revenue) from 5000_sale_orders\n",
    "group by 1\n",
    "       \"\"\")\n",
    "\n",
    "sql_output = []\n",
    "with engine.connect() as con:\n",
    "    rs = con.execute(sql)\n",
    "    for row in rs:\n",
    "        sql_output.append(dict(row))\n",
    "sql_output = pd.DataFrame(sql_output)\n",
    "sql_output\n"
   ]
  },
  {
   "cell_type": "code",
   "execution_count": 1,
   "metadata": {},
   "outputs": [],
   "source": [
    "### USING MYSQL CONNECTOR UPDATE ON KEY\n",
    "import mysql.connector\n",
    "\n",
    "cnx = mysql.connector.connect(user='nhatminh', password='minhabc123',\n",
    "                              host='103.173.254.194',\n",
    "                              database='mindx_sql')\n",
    "\n",
    "cursor = cnx.cursor()\n",
    "\n",
    "cursor.execute(\"INSERT INTO class (class_id, head_teacher_id) VALUES (%s,%s) ON DUPLICATE KEY UPDATE head_teacher_id=%s\", ('123','b','c'))\n",
    "cnx.commit()"
   ]
  },
  {
   "cell_type": "code",
   "execution_count": 12,
   "metadata": {},
   "outputs": [],
   "source": [
    "# cursor.execute(\"INSERT INTO class (class_id, head_teacher_id) VALUES (%s,%s) ON DUPLICATE KEY UPDATE head_teacher_id=%s\", ('123','b','c'))\n",
    "cursor.execute(\"INSERT INTO class (class_id, head_teacher_id) VALUES (1,2) ON DUPLICATE KEY UPDATE head_teacher_id='a1%!12a'\")\n",
    "cnx.commit()"
   ]
  }
 ],
 "metadata": {
  "interpreter": {
   "hash": "aee8b7b246df8f9039afb4144a1f6fd8d2ca17a180786b69acc140d282b71a49"
  },
  "kernelspec": {
   "display_name": "Python 3.10.3 64-bit",
   "language": "python",
   "name": "python3"
  },
  "language_info": {
   "codemirror_mode": {
    "name": "ipython",
    "version": 3
   },
   "file_extension": ".py",
   "mimetype": "text/x-python",
   "name": "python",
   "nbconvert_exporter": "python",
   "pygments_lexer": "ipython3",
   "version": "3.8.9"
  },
  "orig_nbformat": 4
 },
 "nbformat": 4,
 "nbformat_minor": 2
}
